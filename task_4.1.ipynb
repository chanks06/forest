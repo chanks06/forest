{
 "cells": [
  {
   "cell_type": "code",
   "execution_count": 17,
   "id": "92da46fc",
   "metadata": {},
   "outputs": [],
   "source": [
    "import numpy as np\n",
    "import pandas as pd\n",
    "import matplotlib.pyplot as plt\n",
    "import seaborn as sns\n",
    "from sklearn.preprocessing import StandardScaler\n",
    "from sklearn.model_selection import train_test_split\n",
    "from sklearn.ensemble import RandomForestClassifier\n",
    "from sklearn.metrics import accuracy_score\n",
    "from sklearn.model_selection import RandomizedSearchCV"
   ]
  },
  {
   "cell_type": "code",
   "execution_count": 2,
   "id": "01233c9a",
   "metadata": {},
   "outputs": [],
   "source": [
    "ds = pd.read_csv('./data/covtype.csv')"
   ]
  },
  {
   "cell_type": "code",
   "execution_count": 3,
   "id": "929642c1",
   "metadata": {},
   "outputs": [],
   "source": [
    "scale = StandardScaler()"
   ]
  },
  {
   "cell_type": "code",
   "execution_count": 4,
   "id": "d5c2c279",
   "metadata": {},
   "outputs": [],
   "source": [
    "X = ds.drop('Cover_Type', axis=1)"
   ]
  },
  {
   "cell_type": "code",
   "execution_count": 5,
   "id": "3bfa0e2e",
   "metadata": {},
   "outputs": [],
   "source": [
    "scaled_num = pd.DataFrame(scale.fit_transform(X.iloc[:,0:10]), columns = X.iloc[:,0:10].columns)"
   ]
  },
  {
   "cell_type": "code",
   "execution_count": 6,
   "id": "e650e82a",
   "metadata": {},
   "outputs": [],
   "source": [
    "X = pd.concat([scaled_num, X.iloc[:,10:]], axis = 1)"
   ]
  },
  {
   "cell_type": "code",
   "execution_count": 7,
   "id": "1816fb6d",
   "metadata": {},
   "outputs": [],
   "source": [
    "y = ds['Cover_Type']"
   ]
  },
  {
   "cell_type": "code",
   "execution_count": 11,
   "id": "d50c0f58",
   "metadata": {},
   "outputs": [],
   "source": [
    "X_train, X_test, y_train, y_test = train_test_split(X, y, random_state=650, test_size=0.3)"
   ]
  },
  {
   "cell_type": "code",
   "execution_count": 14,
   "id": "4c90db30",
   "metadata": {},
   "outputs": [],
   "source": [
    "rf = RandomForestClassifier(random_state=650)"
   ]
  }
 ],
 "metadata": {
  "kernelspec": {
   "display_name": "Python 3 (ipykernel)",
   "language": "python",
   "name": "python3"
  },
  "language_info": {
   "codemirror_mode": {
    "name": "ipython",
    "version": 3
   },
   "file_extension": ".py",
   "mimetype": "text/x-python",
   "name": "python",
   "nbconvert_exporter": "python",
   "pygments_lexer": "ipython3",
   "version": "3.10.10"
  }
 },
 "nbformat": 4,
 "nbformat_minor": 5
}
